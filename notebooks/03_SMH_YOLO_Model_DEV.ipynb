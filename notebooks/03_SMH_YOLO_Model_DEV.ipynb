{
  "cells": [
    {
      "cell_type": "code",
      "execution_count": null,
      "metadata": {
        "id": "fbygF5EvZPor"
      },
      "outputs": [],
      "source": [
        "#!pip install -q ultralytics clearml"
      ]
    },
    {
      "cell_type": "code",
      "execution_count": 9,
      "metadata": {
        "colab": {
          "base_uri": "https://localhost:8080/"
        },
        "id": "H4_KfsDWr5NV",
        "outputId": "9359b9a5-6fb4-4929-8c8f-b07b9ac72b3f"
      },
      "outputs": [
        {
          "name": "stdout",
          "output_type": "stream",
          "text": [
            "env: CLEARML_WEB_HOST=https://app.clear.ml/\n",
            "env: CLEARML_API_HOST=https://api.clear.ml\n",
            "env: CLEARML_FILES_HOST=https://files.clear.ml\n"
          ]
        }
      ],
      "source": [
        "%env CLEARML_WEB_HOST=https://app.clear.ml/\n",
        "%env CLEARML_API_HOST=https://api.clear.ml\n",
        "%env CLEARML_FILES_HOST=https://files.clear.ml"
      ]
    },
    {
      "cell_type": "code",
      "execution_count": null,
      "metadata": {
        "id": "KqfSojf5udol"
      },
      "outputs": [],
      "source": [
        "import datetime\n",
        "import os\n",
        "\n",
        "from clearml import Dataset, Task\n",
        "from google.colab import userdata\n",
        "from ultralytics import YOLO\n"
      ]
    },
    {
      "cell_type": "code",
      "execution_count": 13,
      "metadata": {
        "id": "HhYoM4KGug3U"
      },
      "outputs": [],
      "source": [
        "os.environ['CLEARML_API_ACCESS_KEY'] = userdata.get('CLEARML_API_ACCESS_KEY')\n",
        "os.environ['CLEARML_API_SECRET_KEY'] = userdata.get('CLEARML_API_SECRET_KEY')"
      ]
    },
    {
      "cell_type": "code",
      "execution_count": 14,
      "metadata": {
        "id": "kgUeHqQausKN"
      },
      "outputs": [],
      "source": [
        "CLEARML_PROJECT_NAME = \"CMT318-Object-Detection\"\n",
        "CLEARML_DATASET_NAME = \"VOC2012_valsplit\"\n",
        "MODEL_NAME = \"yolov8x\"\n",
        "AUTHOR = \"syedhussain9655@gmail.com\"\n",
        "PLATFORM = 'colab'"
      ]
    },
    {
      "cell_type": "code",
      "execution_count": null,
      "metadata": {},
      "outputs": [],
      "source": [
        "import random\n",
        "import numpy as np\n",
        "import torch\n",
        "os.environ[\"PYTHONHASHSEED\"] = str(42)\n",
        "\n",
        "random.seed(42)\n",
        "np.random.seed(42)\n",
        "torch.manual_seed(42)\n",
        "torch.cuda.manual_seed(42)\n",
        "torch.backends.cudnn.deterministic = True\n",
        "torch.backends.cudnn.benchmark = False"
      ]
    },
    {
      "cell_type": "code",
      "execution_count": 16,
      "metadata": {
        "colab": {
          "base_uri": "https://localhost:8080/"
        },
        "id": "Tn6PbtVMyC5R",
        "outputId": "dd42643c-a149-4e84-b4a5-db8659adfd25"
      },
      "outputs": [
        {
          "name": "stderr",
          "output_type": "stream",
          "text": [
            "████████████████████████████▊  99% | 320.00/322.48 MB [00:05<00:00, 59.34MB/s]: /usr/local/lib/python3.11/dist-packages/tqdm/std.py:636: TqdmWarning: clamping frac to range [0, 1]\n",
            "  full_bar = Bar(frac,\n",
            "█████████████████████████████ 100% | 322.48/322.48 MB [00:05<00:00, 61.15MB/s]: \n",
            "█████████████████████████████ 100% | 321.83/321.83 MB [00:05<00:00, 61.25MB/s]: \n"
          ]
        }
      ],
      "source": [
        "dataset = Dataset.get(\n",
        "    dataset_name= CLEARML_DATASET_NAME,\n",
        "    dataset_project= CLEARML_PROJECT_NAME\n",
        ")\n",
        "data_dir = dataset.get_mutable_local_copy(\"voc_yolo\")\n",
        "\n",
        "#Important Instructions to run on Google chrome\n",
        "# Open /content/voc_yolo/data.yaml\n",
        "# On line 22:\n",
        "#   Change path value /content/voc_yolo"
      ]
    },
    {
      "cell_type": "code",
      "execution_count": 17,
      "metadata": {
        "id": "aqN9M23QaJkQ"
      },
      "outputs": [],
      "source": [
        "train_config = {\n",
        "    'epochs': 200,\n",
        "    'batch': 16,\n",
        "    'imgsz': 640,\n",
        "    'optimizer': 'SGD',\n",
        "    'lr0': 0.01,\n",
        "    'lrf': 0.2,\n",
        "    'cos_lr': True,\n",
        "    'momentum': 0.937,\n",
        "    'weight_decay': 5e-4,\n",
        "    'warmup_epochs': 5,\n",
        "    'augment': True,\n",
        "    'mosaic': 1.0,\n",
        "    'mixup': 0.5,\n",
        "    'dropout': 0.3,\n",
        "    'multi_scale': True,\n",
        "    'patience': 20,\n",
        "    'device': 'cuda:0',\n",
        "    'pretrained': False\n",
        "}\n",
        "\n",
        "model_name = \"yolov8n\"\n",
        "author = \"syedhussain9655@gmail.com\"\n",
        "platform = 'colab'\n",
        "\n",
        "experiment_tags = [\n",
        "    f\"model_name:{model_name}\",\n",
        "    f\"dataset:{CLEARML_DATASET_NAME}\",\n",
        "    f\"platform:{platform}\",\n",
        "    f\"author:{author}\",\n",
        "]\n",
        "\n",
        "experiment_name = f\"{model_name}_{CLEARML_DATASET_NAME}\""
      ]
    },
    {
      "cell_type": "code",
      "execution_count": 18,
      "metadata": {
        "colab": {
          "base_uri": "https://localhost:8080/"
        },
        "id": "zbwz3_FZZYXs",
        "outputId": "98602f18-54cd-4f09-c388-9273ab2a2c59"
      },
      "outputs": [
        {
          "name": "stdout",
          "output_type": "stream",
          "text": [
            "ClearML Task: created new task id=0b971bf6c1424c83a2c87d623e8bb52e\n",
            "ClearML results page: https://app.clear.ml/projects/31ab205b5fdb489d9ad1b4ed44a65563/experiments/0b971bf6c1424c83a2c87d623e8bb52e/output/log\n"
          ]
        },
        {
          "data": {
            "text/plain": [
              "{'epochs': 200,\n",
              " 'batch': 16,\n",
              " 'imgsz': 640,\n",
              " 'optimizer': 'SGD',\n",
              " 'lr0': 0.01,\n",
              " 'lrf': 0.2,\n",
              " 'cos_lr': True,\n",
              " 'momentum': 0.937,\n",
              " 'weight_decay': 0.0005,\n",
              " 'warmup_epochs': 5,\n",
              " 'augment': True,\n",
              " 'mosaic': 1.0,\n",
              " 'mixup': 0.5,\n",
              " 'dropout': 0.3,\n",
              " 'multi_scale': True,\n",
              " 'patience': 20,\n",
              " 'device': 'cuda:0',\n",
              " 'pretrained': False}"
            ]
          },
          "execution_count": 18,
          "metadata": {},
          "output_type": "execute_result"
        }
      ],
      "source": [
        "task = Task.init(\n",
        "    project_name = CLEARML_PROJECT_NAME,\n",
        "    task_name    = experiment_name,\n",
        "    tags         = experiment_tags\n",
        ")\n",
        "\n",
        "task.connect(train_config)"
      ]
    },
    {
      "cell_type": "code",
      "execution_count": 19,
      "metadata": {
        "colab": {
          "base_uri": "https://localhost:8080/"
        },
        "id": "XLyFhsXaa16I",
        "outputId": "78e9386f-fe0f-4aa3-d892-4724d9c22626"
      },
      "outputs": [
        {
          "name": "stdout",
          "output_type": "stream",
          "text": [
            "JSONDict(\"/root/.config/Ultralytics/settings.json\"):\n",
            "{\n",
            "  \"settings_version\": \"0.0.6\",\n",
            "  \"datasets_dir\": \"/content/datasets\",\n",
            "  \"weights_dir\": \"weights\",\n",
            "  \"runs_dir\": \"runs\",\n",
            "  \"uuid\": \"569f3ba64b326db489132663f79cd37279811de477381b83ac131e6cdd129cbb\",\n",
            "  \"sync\": true,\n",
            "  \"api_key\": \"\",\n",
            "  \"openai_api_key\": \"\",\n",
            "  \"clearml\": true,\n",
            "  \"comet\": true,\n",
            "  \"dvc\": true,\n",
            "  \"hub\": true,\n",
            "  \"mlflow\": true,\n",
            "  \"neptune\": true,\n",
            "  \"raytune\": true,\n",
            "  \"tensorboard\": true,\n",
            "  \"wandb\": false,\n",
            "  \"vscode_msg\": true\n",
            "}\n",
            "💡 Learn more about Ultralytics Settings at https://docs.ultralytics.com/quickstart/#ultralytics-settings\n"
          ]
        }
      ],
      "source": [
        "!yolo settings tensorboard=True"
      ]
    },
    {
      "cell_type": "code",
      "execution_count": 20,
      "metadata": {
        "id": "zk1zPMNWa3SK"
      },
      "outputs": [],
      "source": [
        "model = YOLO(f'{model_name}.yaml')"
      ]
    },
    {
      "cell_type": "code",
      "execution_count": null,
      "metadata": {
        "colab": {
          "base_uri": "https://localhost:8080/"
        },
        "id": "dhRr6jxIbWCB",
        "outputId": "d448f415-3b10-45aa-e752-033bbc6038f6"
      },
      "outputs": [
        {
          "name": "stdout",
          "output_type": "stream",
          "text": [
            "Ultralytics 8.3.116 🚀 Python-3.11.12 torch-2.6.0+cu124 CUDA:0 (Tesla T4, 15095MiB)\n",
            "\u001b[34m\u001b[1mengine/trainer: \u001b[0mtask=detect, mode=train, model=yolov8n.yaml, data=/content/voc_yolo/data.yaml, epochs=200, time=None, patience=20, batch=16, imgsz=640, save=True, save_period=5, cache=False, device=cuda:0, workers=8, project=None, name=train, exist_ok=True, pretrained=False, optimizer=SGD, verbose=True, seed=0, deterministic=True, single_cls=False, rect=False, cos_lr=True, close_mosaic=10, resume=False, amp=True, fraction=1.0, profile=False, freeze=None, multi_scale=True, overlap_mask=True, mask_ratio=4, dropout=0.3, val=True, split=val, save_json=False, conf=None, iou=0.7, max_det=300, half=False, dnn=False, plots=True, source=None, vid_stride=1, stream_buffer=False, visualize=False, augment=True, agnostic_nms=False, classes=None, retina_masks=False, embed=None, show=False, save_frames=False, save_txt=False, save_conf=False, save_crop=False, show_labels=True, show_conf=True, show_boxes=True, line_width=None, format=torchscript, keras=False, optimize=False, int8=False, dynamic=False, simplify=True, opset=None, workspace=None, nms=False, lr0=0.01, lrf=0.2, momentum=0.937, weight_decay=0.0005, warmup_epochs=5, warmup_momentum=0.8, warmup_bias_lr=0.1, box=7.5, cls=0.5, dfl=1.5, pose=12.0, kobj=1.0, nbs=64, hsv_h=0.015, hsv_s=0.7, hsv_v=0.4, degrees=0.0, translate=0.1, scale=0.5, shear=0.0, perspective=0.0, flipud=0.0, fliplr=0.5, bgr=0.0, mosaic=1.0, mixup=0.5, copy_paste=0.0, copy_paste_mode=flip, auto_augment=randaugment, erasing=0.4, cfg=None, tracker=botsort.yaml, save_dir=runs/detect/train\n",
            "Downloading https://ultralytics.com/assets/Arial.ttf to '/root/.config/Ultralytics/Arial.ttf'...\n"
          ]
        },
        {
          "name": "stderr",
          "output_type": "stream",
          "text": [
            "100%|██████████| 755k/755k [00:00<00:00, 27.0MB/s]"
          ]
        },
        {
          "name": "stdout",
          "output_type": "stream",
          "text": [
            "Overriding model.yaml nc=80 with nc=20\n",
            "\n",
            "                   from  n    params  module                                       arguments                     \n",
            "  0                  -1  1       464  ultralytics.nn.modules.conv.Conv             [3, 16, 3, 2]                 \n",
            "  1                  -1  1      4672  ultralytics.nn.modules.conv.Conv             [16, 32, 3, 2]                \n",
            "  2                  -1  1      7360  ultralytics.nn.modules.block.C2f             [32, 32, 1, True]             \n",
            "  3                  -1  1     18560  ultralytics.nn.modules.conv.Conv             [32, 64, 3, 2]                \n",
            "  4                  -1  2     49664  ultralytics.nn.modules.block.C2f             [64, 64, 2, True]             \n",
            "  5                  -1  1     73984  ultralytics.nn.modules.conv.Conv             [64, 128, 3, 2]               \n",
            "  6                  -1  2    197632  ultralytics.nn.modules.block.C2f             [128, 128, 2, True]           \n",
            "  7                  -1  1    295424  ultralytics.nn.modules.conv.Conv             [128, 256, 3, 2]              \n",
            "  8                  -1  1    460288  ultralytics.nn.modules.block.C2f             [256, 256, 1, True]           \n",
            "  9                  -1  1    164608  ultralytics.nn.modules.block.SPPF            [256, 256, 5]                 \n",
            " 10                  -1  1         0  torch.nn.modules.upsampling.Upsample         [None, 2, 'nearest']          \n",
            " 11             [-1, 6]  1         0  ultralytics.nn.modules.conv.Concat           [1]                           \n",
            " 12                  -1  1    148224  ultralytics.nn.modules.block.C2f             [384, 128, 1]                 \n",
            " 13                  -1  1         0  torch.nn.modules.upsampling.Upsample         [None, 2, 'nearest']          \n",
            " 14             [-1, 4]  1         0  ultralytics.nn.modules.conv.Concat           [1]                           \n",
            " 15                  -1  1     37248  ultralytics.nn.modules.block.C2f             [192, 64, 1]                  \n",
            " 16                  -1  1     36992  ultralytics.nn.modules.conv.Conv             [64, 64, 3, 2]                \n",
            " 17            [-1, 12]  1         0  ultralytics.nn.modules.conv.Concat           [1]                           \n",
            " 18                  -1  1    123648  ultralytics.nn.modules.block.C2f             [192, 128, 1]                 \n",
            " 19                  -1  1    147712  ultralytics.nn.modules.conv.Conv             [128, 128, 3, 2]              \n",
            " 20             [-1, 9]  1         0  ultralytics.nn.modules.conv.Concat           [1]                           \n",
            " 21                  -1  1    493056  ultralytics.nn.modules.block.C2f             [384, 256, 1]                 \n",
            " 22        [15, 18, 21]  1    755212  ultralytics.nn.modules.head.Detect           [20, [64, 128, 256]]          \n"
          ]
        },
        {
          "name": "stderr",
          "output_type": "stream",
          "text": [
            "\n"
          ]
        },
        {
          "name": "stdout",
          "output_type": "stream",
          "text": [
            "YOLOv8n summary: 129 layers, 3,014,748 parameters, 3,014,732 gradients, 8.2 GFLOPs\n",
            "\n",
            "Freezing layer 'model.22.dfl.conv.weight'\n",
            "\u001b[34m\u001b[1mAMP: \u001b[0mrunning Automatic Mixed Precision (AMP) checks...\n",
            "Downloading https://github.com/ultralytics/assets/releases/download/v8.3.0/yolo11n.pt to 'yolo11n.pt'...\n"
          ]
        },
        {
          "name": "stderr",
          "output_type": "stream",
          "text": [
            "100%|██████████| 5.35M/5.35M [00:00<00:00, 98.3MB/s]\n"
          ]
        },
        {
          "name": "stdout",
          "output_type": "stream",
          "text": [
            "\u001b[34m\u001b[1mAMP: \u001b[0mchecks passed ✅\n",
            "\u001b[34m\u001b[1mtrain: \u001b[0mFast image access ✅ (ping: 0.0±0.0 ms, read: 2070.8±1060.9 MB/s, size: 149.6 KB)\n"
          ]
        },
        {
          "name": "stderr",
          "output_type": "stream",
          "text": [
            "\u001b[34m\u001b[1mtrain: \u001b[0mScanning /content/voc_yolo/labels/train... 4658 images, 0 backgrounds, 0 corrupt: 100%|██████████| 4658/4658 [00:01<00:00, 2447.66it/s]\n"
          ]
        },
        {
          "name": "stdout",
          "output_type": "stream",
          "text": [
            "\u001b[34m\u001b[1mtrain: \u001b[0mNew cache created: /content/voc_yolo/labels/train.cache\n",
            "\u001b[34m\u001b[1malbumentations: \u001b[0mBlur(p=0.01, blur_limit=(3, 7)), MedianBlur(p=0.01, blur_limit=(3, 7)), ToGray(p=0.01, num_output_channels=3, method='weighted_average'), CLAHE(p=0.01, clip_limit=(1.0, 4.0), tile_grid_size=(8, 8))\n",
            "\u001b[34m\u001b[1mval: \u001b[0mFast image access ✅ (ping: 0.0±0.0 ms, read: 676.6±129.6 MB/s, size: 102.7 KB)\n"
          ]
        },
        {
          "name": "stderr",
          "output_type": "stream",
          "text": [
            "\u001b[34m\u001b[1mval: \u001b[0mScanning /content/voc_yolo/labels/val... 1165 images, 0 backgrounds, 0 corrupt: 100%|██████████| 1165/1165 [00:01<00:00, 1029.20it/s]\n"
          ]
        },
        {
          "name": "stdout",
          "output_type": "stream",
          "text": [
            "\u001b[34m\u001b[1mval: \u001b[0mNew cache created: /content/voc_yolo/labels/val.cache\n",
            "Plotting labels to runs/detect/train/labels.jpg... \n",
            "\u001b[34m\u001b[1moptimizer:\u001b[0m SGD(lr=0.01, momentum=0.937) with parameter groups 57 weight(decay=0.0), 64 weight(decay=0.0005), 63 bias(decay=0.0)\n",
            "Image sizes 640 train, 640 val\n",
            "Using 2 dataloader workers\n",
            "Logging results to \u001b[1mruns/detect/train\u001b[0m\n",
            "Starting training for 200 epochs...\n",
            "\n",
            "      Epoch    GPU_mem   box_loss   cls_loss   dfl_loss  Instances       Size\n"
          ]
        },
        {
          "name": "stderr",
          "output_type": "stream",
          "text": [
            "      1/200      6.07G      3.394      4.675      3.954         12        768: 100%|██████████| 292/292 [02:14<00:00,  2.18it/s]\n",
            "                 Class     Images  Instances      Box(P          R      mAP50  mAP50-95): 100%|██████████| 37/37 [00:13<00:00,  2.77it/s]\n"
          ]
        },
        {
          "name": "stdout",
          "output_type": "stream",
          "text": [
            "                   all       1165       2747    0.00143     0.0757    0.00098    0.00031\n",
            "\n",
            "      Epoch    GPU_mem   box_loss   cls_loss   dfl_loss  Instances       Size\n"
          ]
        },
        {
          "name": "stderr",
          "output_type": "stream",
          "text": [
            "      2/200       6.1G      3.411       4.51      3.598         20        960: 100%|██████████| 292/292 [02:01<00:00,  2.40it/s]\n",
            "                 Class     Images  Instances      Box(P          R      mAP50  mAP50-95): 100%|██████████| 37/37 [00:11<00:00,  3.25it/s]\n"
          ]
        },
        {
          "name": "stdout",
          "output_type": "stream",
          "text": [
            "                   all       1165       2747    0.00217     0.0656    0.00175   0.000408\n",
            "\n",
            "      Epoch    GPU_mem   box_loss   cls_loss   dfl_loss  Instances       Size\n"
          ]
        },
        {
          "name": "stderr",
          "output_type": "stream",
          "text": [
            "      3/200       6.1G      3.118      4.376      3.321        146        608:  56%|█████▌    | 164/292 [01:06<01:23,  1.54it/s]"
          ]
        }
      ],
      "source": [
        "CONFIG_YAML = os.path.join(data_dir,\"data.yaml\")\n",
        "\n",
        "model.train(\n",
        "    data=str(CONFIG_YAML),\n",
        "    task='detect',\n",
        "    epochs=train_config['epochs'],\n",
        "    batch=train_config['batch'],\n",
        "    imgsz=train_config['imgsz'],\n",
        "    optimizer=train_config['optimizer'],\n",
        "    lr0=train_config['lr0'],\n",
        "    lrf=train_config['lrf'],\n",
        "    cos_lr=train_config['cos_lr'],\n",
        "    momentum=train_config['momentum'],\n",
        "    weight_decay=train_config['weight_decay'],\n",
        "    warmup_epochs=train_config['warmup_epochs'],\n",
        "    augment=train_config['augment'],\n",
        "    mosaic=train_config['mosaic'],\n",
        "    mixup=train_config['mixup'],\n",
        "    dropout=train_config['dropout'],\n",
        "    multi_scale=train_config['multi_scale'],\n",
        "    patience=train_config['patience'],\n",
        "    device=train_config['device'],\n",
        "    pretrained=train_config['pretrained'],\n",
        "    exist_ok=True,\n",
        "    save_period=5\n",
        ")"
      ]
    }
  ],
  "metadata": {
    "accelerator": "GPU",
    "colab": {
      "gpuType": "T4",
      "provenance": []
    },
    "kernelspec": {
      "display_name": "Python 3",
      "name": "python3"
    },
    "language_info": {
      "name": "python"
    }
  },
  "nbformat": 4,
  "nbformat_minor": 0
}
