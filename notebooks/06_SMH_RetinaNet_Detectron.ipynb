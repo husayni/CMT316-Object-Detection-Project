{
  "cells": [
    {
      "cell_type": "code",
      "execution_count": null,
      "metadata": {
        "gather": {
          "logged": 1746229779108
        }
      },
      "outputs": [],
      "source": [
        "import os\n",
        "\n",
        "os.environ['CLEARML_API_ACCESS_KEY'] = os.getenv(\"CLEARML_API_ACCESS_KEY\")\n",
        "os.environ['CLEARML_API_SECRET_KEY'] = os.getenv(\"CLEARML_API_SECRET_KEY\")\n",
        "os.environ[\"CLEARML_WEB_HOST\"]  = \"https://app.clear.ml/\"\n",
        "os.environ[\"CLEARML_API_HOST\"]  = \"https://api.clear.ml\"\n",
        "os.environ[\"CLEARML_FILES_HOST\"] = \"https://files.clear.ml\""
      ]
    },
    {
      "cell_type": "code",
      "execution_count": null,
      "metadata": {
        "gather": {
          "logged": 1746229782147
        }
      },
      "outputs": [],
      "source": [
        "import os\n",
        "from detectron2.engine import DefaultTrainer, HookBase\n",
        "from detectron2.config import get_cfg\n",
        "from detectron2.engine.hooks import BestCheckpointer\n",
        "from detectron2 import model_zoo\n",
        "from detectron2.data.datasets import register_pascal_voc\n",
        "from detectron2.evaluation import PascalVOCDetectionEvaluator\n",
        "from detectron2.utils.events import get_event_storage\n",
        "from clearml import Task\n",
        "from detectron2.data import transforms as T\n",
        "from detectron2.data import DatasetMapper\n",
        "from detectron2.data import DatasetCatalog\n",
        "import math\n",
        "\n",
        "from numbers import Number"
      ]
    },
    {
      "cell_type": "code",
      "execution_count": null,
      "metadata": {},
      "outputs": [],
      "source": [
        "import random\n",
        "import numpy as np\n",
        "import torch\n",
        "os.environ[\"PYTHONHASHSEED\"] = str(42)\n",
        "\n",
        "random.seed(42)\n",
        "np.random.seed(42)\n",
        "torch.manual_seed(42)\n",
        "torch.cuda.manual_seed(42)\n",
        "torch.backends.cudnn.deterministic = True\n",
        "torch.backends.cudnn.benchmark = False"
      ]
    },
    {
      "cell_type": "code",
      "execution_count": null,
      "metadata": {
        "gather": {
          "logged": 1746229953281
        }
      },
      "outputs": [],
      "source": [
        "epochs=12\n",
        "\n",
        "voc_root = \"VOCdevkit\"\n",
        "year = 2012\n",
        "\n",
        "for split in [\"train\", \"val\"]:\n",
        "    register_pascal_voc(\n",
        "        f\"voc_{str(split)}\",\n",
        "        os.path.join(voc_root, f\"VOC{str(year)}\"),\n",
        "        split,\n",
        "        year\n",
        "    )\n",
        "\n",
        "cfg = get_cfg()\n",
        "cfg.merge_from_file(\n",
        "    model_zoo.get_config_file(\n",
        "        \"COCO-Detection/retinanet_R_50_FPN_1x.yaml\"\n",
        "    )\n",
        ")\n",
        "\n",
        "cfg.DATASETS.TRAIN = (\"voc_train\",)\n",
        "cfg.DATASETS.TEST = (\"voc_val\",)\n",
        "\n",
        "\n",
        "dataset_len = len(DatasetCatalog.get(cfg.DATASETS.TRAIN[0]))\n",
        "\n",
        "iters_per_epoch = math.ceil(dataset_len / cfg.SOLVER.IMS_PER_BATCH)\n",
        "epochs = 20\n",
        "\n",
        "\n",
        "cfg.SOLVER.MAX_ITER = epochs * iters_per_epoch\n",
        "cfg.TEST.EVAL_PERIOD = iters_per_epoch\n",
        "\n",
        "\n",
        "cfg.INPUT.MIN_SIZE_TRAIN    = (640, 672, 704, 736, 768, 800)\n",
        "cfg.INPUT.MAX_SIZE_TRAIN    = 1333\n",
        "cfg.INPUT.MIN_SIZE_TEST     = 800\n",
        "cfg.INPUT.MAX_SIZE_TEST     = 1333\n",
        "cfg.INPUT.RANDOM_FLIP       = \"horizontal\"\n",
        "\n",
        "\n",
        "cfg.DATALOADER.NUM_WORKERS = 8\n",
        "\n",
        "cfg.SOLVER.IMS_PER_BATCH = 4\n",
        "cfg.SOLVER.BASE_LR      = 0.01 * (cfg.SOLVER.IMS_PER_BATCH / 16)\n",
        "cfg.SOLVER.WEIGHT_DECAY = 0.0001\n",
        "cfg.SOLVER.STEPS = (\n",
        "    int(0.7 * cfg.SOLVER.MAX_ITER),\n",
        "    int(0.9 * cfg.SOLVER.MAX_ITER),\n",
        ")\n",
        "cfg.SOLVER.GAMMA = 0.1\n",
        "cfg.SOLVER.WARMUP_METHOD       = \"linear\"\n",
        "cfg.SOLVER.WARMUP_FACTOR       = 1.0 / 1e3\n",
        "cfg.SOLVER.WARMUP_ITERS        = 1000\n",
        "cfg.SOLVER.WARMUP_START_LR     = 0.0\n",
        "\n",
        "cfg.MODEL.RETINANET.NUM_CLASSES = 20\n",
        "cfg.MODEL.WEIGHTS = model_zoo.get_checkpoint_url(\n",
        "    \"COCO-Detection/retinanet_R_50_FPN_1x.yaml\"\n",
        ")\n",
        "cfg.OUTPUT_DIR = \"output\"\n",
        "os.makedirs(cfg.OUTPUT_DIR, exist_ok=True)\n",
        "\n"
      ]
    },
    {
      "cell_type": "code",
      "execution_count": null,
      "metadata": {
        "gather": {
          "logged": 1746229953348
        }
      },
      "outputs": [],
      "source": [
        "class ClearMLHook(HookBase):\n",
        "    def __init__(self):\n",
        "        self.logger = Task.current_task().get_logger()\n",
        "    def after_step(self):\n",
        "        storage = get_event_storage()\n",
        "        for name, value in storage.latest().items():\n",
        "            if isinstance(value, Number):\n",
        "                self.logger.report_scalar(name, \"train\", iteration=storage.iter, value=float(value))\n",
        "\n",
        "\n",
        "class Trainer(DefaultTrainer):\n",
        "    @classmethod\n",
        "    def build_evaluator(cls, cfg, dataset_name, output_folder=None):\n",
        "        if output_folder is None:\n",
        "            output_folder = os.path.join(cfg.OUTPUT_DIR, \"inference\")\n",
        "        os.makedirs(output_folder, exist_ok=True)\n",
        "        return PascalVOCDetectionEvaluator(dataset_name)\n",
        "\n"
      ]
    },
    {
      "cell_type": "code",
      "execution_count": null,
      "metadata": {
        "gather": {
          "logged": 1746229953405
        }
      },
      "outputs": [],
      "source": [
        "from detectron2.data import MetadataCatalog\n",
        "\n",
        "meta = MetadataCatalog.get(\"voc_val\")\n",
        "print(\"dirname:\",    meta.dirname)\n",
        "print(\"split:\",      meta.split)\n",
        "print(\"thing_classes:\", meta.thing_classes)\n",
        "print(\"year:\",       meta.year, type(meta.year))"
      ]
    },
    {
      "cell_type": "code",
      "execution_count": null,
      "metadata": {},
      "outputs": [],
      "source": [
        "!ls"
      ]
    },
    {
      "cell_type": "code",
      "execution_count": null,
      "metadata": {
        "gather": {
          "logged": 1746229957788
        }
      },
      "outputs": [],
      "source": [
        "experiment_tags = [\n",
        "    \"model_name:retinanet\",\n",
        "    \"dataset:voc2012\",\n",
        "    \"platform:azureml-notebook\",\n",
        "    \"author:hussain\",\n",
        "    \"account:hussainsyed.dev@outlook.com\",\n",
        "    \"studio:obj-detect-3xc\",\n",
        "    \"detectron2\"\n",
        "]\n",
        "\n",
        "task = Task.init(\n",
        "    project_name=\"CMT318-Object-Detection\",\n",
        "    task_name=\"RetinaNet-Detectron2-Training\",\n",
        "    tags=experiment_tags\n",
        ")\n",
        "\n",
        "task.connect(cfg)"
      ]
    },
    {
      "cell_type": "code",
      "execution_count": null,
      "metadata": {
        "gather": {
          "logged": 1746230030851
        }
      },
      "outputs": [],
      "source": [
        "trainer = Trainer(cfg)\n",
        "\n",
        "trainer.register_hooks([\n",
        "    BestCheckpointer(\n",
        "        eval_period=cfg.TEST.EVAL_PERIOD,\n",
        "        checkpointer=trainer.checkpointer,\n",
        "        val_metric=\"bbox/AP50\",\n",
        "        mode=\"max\",\n",
        "        file_prefix=\"model_best\"\n",
        "    ),\n",
        "    ClearMLHook()\n",
        "])\n",
        "trainer.resume_or_load(resume=False)"
      ]
    },
    {
      "cell_type": "code",
      "execution_count": null,
      "metadata": {
        "gather": {
          "logged": 1746228914167
        }
      },
      "outputs": [],
      "source": [
        "trainer.train()"
      ]
    },
    {
      "cell_type": "code",
      "execution_count": null,
      "metadata": {},
      "outputs": [],
      "source": [
        "output_folder = \"./output\"\n",
        "\n",
        "for root, _, files in os.walk(output_folder):\n",
        "    for fname in files:\n",
        "        file_path = os.path.join(root, fname)\n",
        "        artifact_name = os.path.relpath(file_path, output_folder)\n",
        "        task.upload_artifact(name=artifact_name, artifact_object=file_path)\n",
        "        print(f\"Uploaded {artifact_name}\")\n"
      ]
    },
    {
      "cell_type": "code",
      "execution_count": null,
      "metadata": {},
      "outputs": [],
      "source": [
        "task.close()"
      ]
    }
  ],
  "metadata": {
    "kernel_info": {
      "name": "python310-sdkv2"
    },
    "kernelspec": {
      "display_name": "Python 3.10 - SDK v2",
      "language": "python",
      "name": "python310-sdkv2"
    },
    "language_info": {
      "codemirror_mode": {
        "name": "ipython",
        "version": 3
      },
      "file_extension": ".py",
      "mimetype": "text/x-python",
      "name": "python",
      "nbconvert_exporter": "python",
      "pygments_lexer": "ipython3",
      "version": "3.10.16"
    },
    "microsoft": {
      "ms_spell_check": {
        "ms_spell_check_language": "en"
      }
    },
    "nteract": {
      "version": "nteract-front-end@1.0.0"
    }
  },
  "nbformat": 4,
  "nbformat_minor": 2
}
