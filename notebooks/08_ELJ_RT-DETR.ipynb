{
 "cells": [
  {
   "cell_type": "code",
   "execution_count": null,
   "metadata": {
    "_cell_guid": "b1076dfc-b9ad-4769-8c92-a6c4dae69d19",
    "_uuid": "8f2839f25d086af736a60e9eeb907d3b93b6e0e5",
    "execution": {
     "iopub.execute_input": "2025-05-03T12:13:14.142284Z",
     "iopub.status.busy": "2025-05-03T12:13:14.142006Z",
     "iopub.status.idle": "2025-05-03T12:13:17.433289Z",
     "shell.execute_reply": "2025-05-03T12:13:17.432330Z",
     "shell.execute_reply.started": "2025-05-03T12:13:14.142262Z"
    },
    "trusted": true
   },
   "outputs": [],
   "source": [
    "#CELL 1 INSTALL\n",
    "!pip install -q ultralytics clearml pycocotools"
   ]
  },
  {
   "cell_type": "code",
   "execution_count": null,
   "metadata": {},
   "outputs": [],
   "source": [
    "import random\n",
    "import numpy as np\n",
    "import torch\n",
    "os.environ[\"PYTHONHASHSEED\"] = str(42)\n",
    "\n",
    "random.seed(42)\n",
    "np.random.seed(42)\n",
    "torch.manual_seed(42)\n",
    "torch.cuda.manual_seed(42)\n",
    "torch.backends.cudnn.deterministic = True\n",
    "torch.backends.cudnn.benchmark = False"
   ]
  },
  {
   "cell_type": "code",
   "execution_count": null,
   "metadata": {
    "execution": {
     "iopub.execute_input": "2025-05-03T12:13:17.435053Z",
     "iopub.status.busy": "2025-05-03T12:13:17.434811Z",
     "iopub.status.idle": "2025-05-03T12:13:17.443785Z",
     "shell.execute_reply": "2025-05-03T12:13:17.443067Z",
     "shell.execute_reply.started": "2025-05-03T12:13:17.435030Z"
    },
    "trusted": true
   },
   "outputs": [],
   "source": [
    "#CELL 2 SET ENV + CLEARML INIT\n",
    "import os\n",
    "from clearml import Task\n",
    "from ultralytics import RTDETR\n",
    "\n",
    "# Set credentials\n",
    "os.environ['CLEARML_API_ACCESS_KEY'] = \"NBTW2GP5BSEA52690P5UJYYECOJ9IW\"\n",
    "os.environ['CLEARML_API_SECRET_KEY'] = \"GBVE-tZB3TAEx3brkeQDvevyNs8CF1Emv8JjCoxg6tVDuMsAWHZvwhs1ornogMdy5Qk\"\n",
    "os.environ['CLEARML_API_HOST']       = \"https://api.clear.ml\"\n",
    "os.environ['CLEARML_WEB_HOST']       = \"https://app.clear.ml\"\n",
    "os.environ['CLEARML_FILES_HOST']     = \"https://files.clear.ml\"\n",
    "\n",
    "experiment_tags = [\n",
    "    \"model_name:retinanet\",\n",
    "    \"dataset:voc\",\n",
    "    \"platform:kaggle\",\n",
    "    \"author:elis\",\n",
    "    \"account:jacksonEL2@cardiff.ac.uk\",\n",
    "    # \"studio:object-detection\"\n",
    "]\n",
    "\n",
    "# Initialize ClearML\n",
    "task = Task.init(\n",
    "    project_name=\"CMT318-Object-Detection\",\n",
    "    task_name=\"RT-DETR Elis Training VOC Kaggle\",\n",
    "    output_uri=\"./\",\n",
    "    tags=experiment_tags,\n",
    "    auto_connect_frameworks=True,\n",
    "    auto_resource_monitoring=True\n",
    ")\n",
    "print(\"✅ ClearML Task ID:\", task.id)\n"
   ]
  },
  {
   "cell_type": "code",
   "execution_count": null,
   "metadata": {},
   "outputs": [],
   "source": [
    "#CELL 3 TRAINING\n",
    "from ultralytics import RTDETR\n",
    "\n",
    "# Select model to run\n",
    "model = RTDETR(\"rtdetr-l.pt\")\n",
    "\n",
    "# launch a fresh training run\n",
    "results = model.train(\n",
    "    data=\"elis_data.yaml\",    # your VOC-style YAML config\n",
    "    epochs=100,               # total epochs\n",
    "    imgsz=640,                # input image size\n",
    "    device=0,                 # use GPU 0\n",
    "    project=\"elis_rtdetr\",    # output folder prefix\n",
    "    name=\"run1\",              # subfolder name\n",
    "    clearml=True              # log all metrics to ClearML\n",
    ")\n",
    "\n",
    "# report final metric\n",
    "print(f\"✅ Training finished. Last epoch: {results.epoch}, mAP@0.5={results.metrics.map50:.3f}\")"
   ]
  },
  {
   "cell_type": "code",
   "execution_count": null,
   "metadata": {
    "trusted": true
   },
   "outputs": [],
   "source": [
    "#CELL 4 RESUME TRAINING (Kaggle timeout)\n",
    "\n",
    "from ultralytics import RTDETR\n",
    "\n",
    "# load partially trained checkpoint\n",
    "model = RTDETR(\"/kaggle/working/runs/train/elis_rtdetr/run1/weights/last.pt\")\n",
    "\n",
    "# resume training\n",
    "results = model.train(resume=True)\n",
    "\n",
    "print(f\"✅ Resumed at epoch {results.epoch}\")"
   ]
  }
 ],
 "metadata": {
  "kaggle": {
   "accelerator": "gpu",
   "dataSources": [
    {
     "datasetId": 7317623,
     "sourceId": 11660735,
     "sourceType": "datasetVersion"
    }
   ],
   "dockerImageVersionId": 31011,
   "isGpuEnabled": true,
   "isInternetEnabled": true,
   "language": "python",
   "sourceType": "notebook"
  },
  "kernelspec": {
   "display_name": "Python 3",
   "language": "python",
   "name": "python3"
  },
  "language_info": {
   "codemirror_mode": {
    "name": "ipython",
    "version": 3
   },
   "file_extension": ".py",
   "mimetype": "text/x-python",
   "name": "python",
   "nbconvert_exporter": "python",
   "pygments_lexer": "ipython3",
   "version": "3.11.11"
  }
 },
 "nbformat": 4,
 "nbformat_minor": 4
}
